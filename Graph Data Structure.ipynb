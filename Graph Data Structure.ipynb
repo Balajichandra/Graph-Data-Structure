{
 "cells": [
  {
   "cell_type": "markdown",
   "id": "aae7c1f4",
   "metadata": {},
   "source": [
    "Adjacency Matrix Add,display and delete"
   ]
  },
  {
   "cell_type": "code",
   "execution_count": 8,
   "id": "4acfcf82",
   "metadata": {},
   "outputs": [
    {
     "name": "stdout",
     "output_type": "stream",
     "text": [
      "   0\n",
      "   1\n",
      "   1\n",
      "   0\n",
      "   0\n",
      "   1\n",
      "   0\n",
      "   1\n",
      "   0\n",
      "   0\n",
      "   1\n",
      "   1\n",
      "   0\n",
      "   1\n",
      "   0\n",
      "   0\n",
      "   0\n",
      "   1\n",
      "   0\n",
      "   0\n",
      "   0\n",
      "   0\n",
      "   0\n",
      "   0\n",
      "   0\n"
     ]
    }
   ],
   "source": [
    "class Graph(object):\n",
    "\n",
    "    # Initialize the matrix\n",
    "    def __init__(self, size):\n",
    "        self.adjMatrix = []\n",
    "        for i in range(size):\n",
    "            self.adjMatrix.append([0 for i in range(size)])\n",
    "        self.size = size\n",
    "\n",
    "    # Add edges\n",
    "    def add_edge(self, v1, v2):\n",
    "        if v1 == v2:\n",
    "            print(\"Same vertex %d and %d\" % (v1, v2))\n",
    "        self.adjMatrix[v1][v2] = 1\n",
    "        self.adjMatrix[v2][v1] = 1\n",
    "\n",
    "    # Remove edges\n",
    "    def remove_edge(self, v1, v2):\n",
    "        if self.adjMatrix[v1][v2] == 0:\n",
    "            print(\"No edge between %d and %d\" % (v1, v2))\n",
    "            return\n",
    "        self.adjMatrix[v1][v2] = 0\n",
    "        self.adjMatrix[v2][v1] = 0\n",
    "\n",
    "    def __len__(self):\n",
    "        return self.size\n",
    "\n",
    "    # Print the matrix\n",
    "    def print_matrix(self):\n",
    "        for row in self.adjMatrix:\n",
    "            for val in row:\n",
    "                print('{:4}'.format(val)),\n",
    "            print\n",
    "\n",
    "\n",
    "def main():\n",
    "    g = Graph(5)\n",
    "    g.add_edge(0, 1)\n",
    "    g.add_edge(0, 2)\n",
    "    g.add_edge(1, 2)\n",
    "    g.add_edge(2, 0)\n",
    "    g.add_edge(2, 3)\n",
    "\n",
    "    g.print_matrix()\n",
    "\n",
    "\n",
    "if __name__ == '__main__':\n",
    "    main()"
   ]
  },
  {
   "cell_type": "markdown",
   "id": "3c98dc93",
   "metadata": {},
   "source": [
    "Adjacency List representation"
   ]
  },
  {
   "cell_type": "code",
   "execution_count": 9,
   "id": "b051cafa",
   "metadata": {},
   "outputs": [
    {
     "name": "stdout",
     "output_type": "stream",
     "text": [
      "[1, 2]\n",
      "[0, 2, 3]\n",
      "[0, 1]\n",
      "[1]\n"
     ]
    }
   ],
   "source": [
    "def add_edge(adj,u,v):\n",
    "    adj[u].append(v)\n",
    "    adj[v].append(u)\n",
    "def display(adj):\n",
    "    for i in adj:\n",
    "        print(i)\n",
    "v = 4\n",
    "adj = [[] for i in range(v)]\n",
    "add_edge(adj,0,1)\n",
    "add_edge(adj,0,2)\n",
    "add_edge(adj,1,2)\n",
    "add_edge(adj,1,3)\n",
    "display(adj)"
   ]
  },
  {
   "cell_type": "markdown",
   "id": "5cb27830",
   "metadata": {},
   "source": [
    "BFS Graph Traversal for connected"
   ]
  },
  {
   "cell_type": "code",
   "execution_count": 11,
   "id": "601c07e7",
   "metadata": {},
   "outputs": [
    {
     "name": "stdout",
     "output_type": "stream",
     "text": [
      "[1, 2]\n",
      "[0, 2, 3]\n",
      "[0, 1, 4, 3]\n",
      "[1, 2, 4]\n",
      "[2, 3]\n",
      "0 1 2 3 4 "
     ]
    }
   ],
   "source": [
    "from collections import deque\n",
    "def add_edge(adj,v1,v2):\n",
    "    adj[v1].append(v2)\n",
    "    adj[v2].append(v1)\n",
    "def display(adj):\n",
    "    for i in adj:\n",
    "        print(i)\n",
    "def BFS(adj,s):\n",
    "    visited  = [False] * len(adj)\n",
    "    q = deque()\n",
    "    q.append(s)\n",
    "    visited[s] = True\n",
    "    while q:\n",
    "        s = q.popleft()\n",
    "        print(s,end=' ')\n",
    "        for i in adj[s]:\n",
    "            if visited[i] == False:\n",
    "                q.append(i)\n",
    "                visited[i] = True\n",
    "v = 5\n",
    "adj = [[] for i in range(v)]\n",
    "add_edge(adj,0,1)\n",
    "add_edge(adj,0,2)\n",
    "add_edge(adj,1,2)\n",
    "add_edge(adj,1,3)\n",
    "add_edge(adj,2,4)\n",
    "add_edge(adj,2,3)\n",
    "add_edge(adj,3,4)\n",
    "display(adj)\n",
    "BFS(adj,0)"
   ]
  },
  {
   "cell_type": "markdown",
   "id": "4afb0ca5",
   "metadata": {},
   "source": [
    "BFS Graph Traversal for Disconnected graph"
   ]
  },
  {
   "cell_type": "code",
   "execution_count": 13,
   "id": "6f5dd716",
   "metadata": {},
   "outputs": [
    {
     "name": "stdout",
     "output_type": "stream",
     "text": [
      "[1, 2]\n",
      "[0, 3]\n",
      "[0, 3]\n",
      "[1, 2]\n",
      "[5, 6]\n",
      "[4, 6]\n",
      "[4, 5]\n",
      "0 1 2 3 4 5 6 "
     ]
    }
   ],
   "source": [
    "from collections import deque\n",
    "def add_edge(adj,u,v):\n",
    "    adj[u].append(v)\n",
    "    adj[v].append(u)\n",
    "def display(adj):\n",
    "    for l in adj:\n",
    "        print(l)\n",
    "def BFS(adj,i,visited):\n",
    "    q = deque()\n",
    "    q.append(i)\n",
    "    visited[i] = True\n",
    "    while q:\n",
    "        s = q.popleft()\n",
    "        print(s,end=' ')\n",
    "        for j in adj[i]:\n",
    "            if visited[j] == False:\n",
    "                q.append(j)\n",
    "                visited[j] = True\n",
    "def BFS_dis(adj):\n",
    "    visited = [False] * len(adj)\n",
    "    for i in range(len(adj)):\n",
    "        if visited[i] == False:\n",
    "            BFS(adj,i,visited)\n",
    "            \n",
    "v = 7\n",
    "adj = [[] for i in range(v)]\n",
    "add_edge(adj,0,1)\n",
    "add_edge(adj,0,2)\n",
    "add_edge(adj,1,3)\n",
    "add_edge(adj,2,3)\n",
    "add_edge(adj,4,5)\n",
    "add_edge(adj,4,6)\n",
    "add_edge(adj,5,6)\n",
    "display(adj)\n",
    "BFS_dis(adj)"
   ]
  },
  {
   "cell_type": "markdown",
   "id": "286dc7fd",
   "metadata": {},
   "source": [
    "BFS Graph traversal connected components in undirected graph"
   ]
  },
  {
   "cell_type": "code",
   "execution_count": 18,
   "id": "7ff8f910",
   "metadata": {},
   "outputs": [
    {
     "name": "stdout",
     "output_type": "stream",
     "text": [
      "[1, 2]\n",
      "[0, 2]\n",
      "[0, 1]\n",
      "[4]\n",
      "[3]\n",
      "[6, 7]\n",
      "[5]\n",
      "[5]\n",
      "0 1 2 3 4 5 6 7 Number of connected components are: 3\n"
     ]
    }
   ],
   "source": [
    "from collections import deque\n",
    "def add_edge(adj,u,v):\n",
    "    adj[u].append(v)\n",
    "    adj[v].append(u)\n",
    "def display(adj):\n",
    "    for i in adj:\n",
    "        print(i)\n",
    "def BFS(adj,i,visited):\n",
    "    q = deque()\n",
    "    q.append(i)\n",
    "    visited[i] = True\n",
    "    while q:\n",
    "        s = q.popleft()\n",
    "        print(s,end=' ')\n",
    "        for j in adj[i]:\n",
    "            if visited[j] == False:\n",
    "                q.append(j)\n",
    "                visited[j] = True\n",
    "def BFS_Con_Com(adj):\n",
    "    visited = [False] * len(adj)\n",
    "    res = 0\n",
    "    for i in range(len(adj)):\n",
    "        if visited[i] == False:\n",
    "            res = res+1\n",
    "            BFS(adj,i,visited)\n",
    "    print(\"Number of connected components are:\",res)        \n",
    "v = 8 \n",
    "adj = [[] for i in range(v)]\n",
    "add_edge(adj,0,1)\n",
    "add_edge(adj,0,2)\n",
    "add_edge(adj,1,2)\n",
    "add_edge(adj,3,4)\n",
    "add_edge(adj,5,6)\n",
    "add_edge(adj,5,7)\n",
    "display(adj)\n",
    "BFS_Con_Com(adj)"
   ]
  },
  {
   "cell_type": "markdown",
   "id": "e20591d2",
   "metadata": {},
   "source": [
    "DFS for graph traversal connected graph"
   ]
  },
  {
   "cell_type": "code",
   "execution_count": 20,
   "id": "286c23a4",
   "metadata": {},
   "outputs": [
    {
     "name": "stdout",
     "output_type": "stream",
     "text": [
      "[1, 2]\n",
      "[0, 3, 4]\n",
      "[0, 3]\n",
      "[1, 2, 4]\n",
      "[1, 3]\n",
      "0 1 3 2 4 "
     ]
    }
   ],
   "source": [
    "def add_edges(adj,u,v):\n",
    "    adj[u].append(v)\n",
    "    adj[v].append(u)\n",
    "def display(adj):\n",
    "    for i in adj:\n",
    "        print(i)\n",
    "def DFS_Rec(adj,s,visited):\n",
    "    visited[s] = True\n",
    "    print(s,end=' ')\n",
    "    for u in adj[s]:\n",
    "        if visited[u] == False:\n",
    "            DFS_Rec(adj,u,visited)\n",
    "def DFS(adj,s):\n",
    "    visited = [False] * len(adj)\n",
    "    DFS_Rec(adj,s,visited)\n",
    "v = 5\n",
    "adj = [[] for i in range(v)]\n",
    "add_edge(adj,0,1)\n",
    "add_edge(adj,0,2)\n",
    "add_edge(adj,1,3)\n",
    "add_edge(adj,1,4)\n",
    "add_edge(adj,2,3)\n",
    "add_edge(adj,3,4)\n",
    "display(adj)\n",
    "DFS(adj,0)"
   ]
  },
  {
   "cell_type": "markdown",
   "id": "a530a60e",
   "metadata": {},
   "source": [
    "DFS graph traversal for disconnected graph"
   ]
  },
  {
   "cell_type": "code",
   "execution_count": 22,
   "id": "c0c9b4ae",
   "metadata": {},
   "outputs": [
    {
     "name": "stdout",
     "output_type": "stream",
     "text": [
      "[1, 2]\n",
      "[0, 2]\n",
      "[0, 1]\n",
      "[4]\n",
      "[3]\n",
      "0 1 2 3 4 "
     ]
    }
   ],
   "source": [
    "def add_edge(adj,u,v):\n",
    "    adj[u].append(v)\n",
    "    adj[v].append(u)\n",
    "def display(adj):\n",
    "    for i in adj:\n",
    "        print(i)\n",
    "def DFS_Rec_Dis(adj,i,visited):\n",
    "    visited[i] = True\n",
    "    print(i,end= ' ')\n",
    "    for j in adj[i]:\n",
    "        if visited[j] ==  False:\n",
    "            DFS_Rec_Dis(adj,j,visited)\n",
    "def DFS_Dis(adj):\n",
    "    visited = [False] * len(adj)\n",
    "    for i in range(len(adj)):\n",
    "        if visited[i] == False:\n",
    "            DFS_Rec_Dis(adj,i,visited)\n",
    "v = 5 \n",
    "adj = [[] for i in range(v)]\n",
    "add_edge(adj,0,1)\n",
    "add_edge(adj,0,2)\n",
    "add_edge(adj,1,2)\n",
    "add_edge(adj,3,4)\n",
    "display(adj)\n",
    "DFS_Dis(adj)"
   ]
  },
  {
   "cell_type": "markdown",
   "id": "a9905efc",
   "metadata": {},
   "source": [
    "DFS graph traversal for connected components undirected graph"
   ]
  },
  {
   "cell_type": "code",
   "execution_count": 23,
   "id": "1f5ce742",
   "metadata": {},
   "outputs": [
    {
     "name": "stdout",
     "output_type": "stream",
     "text": [
      "[1]\n",
      "[0, 2, 3]\n",
      "[1, 3]\n",
      "[1, 2]\n",
      "Total number of connected components in DFS: 1\n"
     ]
    }
   ],
   "source": [
    "def add_edge(adj,u,v):\n",
    "    adj[u].append(v)\n",
    "    adj[v].append(u)\n",
    "def display(adj):\n",
    "    for i in adj:\n",
    "        print(i)\n",
    "def DFS_Rec_Con_Com(adj,i,visited):\n",
    "    visited[i] = True\n",
    "    #print(i,end=\" \")\n",
    "    for j in adj[i]:\n",
    "        if visited[j] == False:\n",
    "            DFS_Rec_Con_Com(adj,j,visited)\n",
    "def DFS_CON_COM(adj):\n",
    "    visited = [False] * len(adj)\n",
    "    res = 0\n",
    "    for i in range(len(adj)):\n",
    "        if visited[i] == False:\n",
    "            res = res + 1\n",
    "            DFS_Rec_Con_Com(adj,i,visited)\n",
    "    print(\"Total number of connected components in DFS:\",res)\n",
    "v = 4\n",
    "adj = [[] for i in range (v)]\n",
    "add_edge(adj,0,1)\n",
    "add_edge(adj,1,2)\n",
    "add_edge(adj,1,3)\n",
    "add_edge(adj,2,3)\n",
    "display(adj)\n",
    "DFS_CON_COM(adj)"
   ]
  },
  {
   "cell_type": "markdown",
   "id": "b703fb98",
   "metadata": {},
   "source": [
    "Shortest Path in unweighted graph"
   ]
  },
  {
   "cell_type": "code",
   "execution_count": 25,
   "id": "041d8872",
   "metadata": {},
   "outputs": [
    {
     "name": "stdout",
     "output_type": "stream",
     "text": [
      "[1, 2]\n",
      "[0, 2, 3]\n",
      "[1, 3, 0]\n",
      "[2, 1]\n",
      "[0, 1, 1, 2]\n"
     ]
    }
   ],
   "source": [
    "from collections import deque\n",
    "INT_MAX = 4294967296\n",
    "def add_edge(adj,u,v):\n",
    "    adj[u].append(v)\n",
    "    adj[v].append(u)\n",
    "def display(adj):\n",
    "    for i in adj:\n",
    "        print(i)\n",
    "def BFS(adj,s,dist):\n",
    "    visited = [False] * len(adj)\n",
    "    q = deque()\n",
    "    visited[s] = True\n",
    "    q.append(s)\n",
    "    while q:\n",
    "        u = q.popleft()\n",
    "        for v in adj[u]:\n",
    "            if visited[v] == False:\n",
    "                dist[v] = dist[u] + 1\n",
    "                visited[v] = True\n",
    "                q.append(v)\n",
    "    return dist            \n",
    "v = 4\n",
    "adj = [[] for i in range(v)]\n",
    "add_edge(adj,0,1)\n",
    "add_edge(adj,1,2)\n",
    "add_edge(adj,2,3)\n",
    "add_edge(adj,0,2)\n",
    "add_edge(adj,1,3)\n",
    "display(adj)\n",
    "dist = [INT_MAX] * v\n",
    "dist[0] = 0\n",
    "Res = BFS(adj,0,dist)\n",
    "print(Res)"
   ]
  },
  {
   "cell_type": "markdown",
   "id": "fcca03c7",
   "metadata": {},
   "source": [
    "Detect a cycle in undirected graph"
   ]
  },
  {
   "cell_type": "code",
   "execution_count": 26,
   "id": "d0552009",
   "metadata": {},
   "outputs": [
    {
     "name": "stdout",
     "output_type": "stream",
     "text": [
      "[1]\n",
      "[0, 2, 3]\n",
      "[1, 3, 4]\n",
      "[1, 2]\n",
      "[2]\n",
      "cycle found\n"
     ]
    }
   ],
   "source": [
    "def add_edges(adj,u,v):\n",
    "    adj[u].append(v)\n",
    "    adj[v].append(u)\n",
    "def display(adj):\n",
    "    for i in adj:\n",
    "        print(i)\n",
    "def DFS_REC(adj,s,visited,parent):\n",
    "    visited[s] = True\n",
    "    for u in adj[s]:\n",
    "        if visited[u] == False:\n",
    "            if DFS_REC(adj,u,visited,s):\n",
    "                return True\n",
    "            elif u != parent:\n",
    "                return True\n",
    "    return False        \n",
    "\n",
    "def DFS(adj):\n",
    "    visited = [False] * len(adj)\n",
    "    for i in range(len(adj)):\n",
    "        if visited[i] == False:\n",
    "            if DFS_REC(adj,i,visited,-1):\n",
    "                return True\n",
    "    return False  \n",
    "v = 5\n",
    "adj = [[] for i in range(v)]\n",
    "add_edge(adj,0,1)\n",
    "add_edge(adj,1,2)\n",
    "add_edge(adj,1,3)\n",
    "add_edge(adj,2,3)\n",
    "add_edge(adj,2,4)\n",
    "display(adj)\n",
    "if DFS(adj):\n",
    "    print('cycle found')\n",
    "else:\n",
    "    print('cycle not found')"
   ]
  },
  {
   "cell_type": "code",
   "execution_count": null,
   "id": "a48361bd",
   "metadata": {},
   "outputs": [],
   "source": []
  }
 ],
 "metadata": {
  "kernelspec": {
   "display_name": "Python 3 (ipykernel)",
   "language": "python",
   "name": "python3"
  },
  "language_info": {
   "codemirror_mode": {
    "name": "ipython",
    "version": 3
   },
   "file_extension": ".py",
   "mimetype": "text/x-python",
   "name": "python",
   "nbconvert_exporter": "python",
   "pygments_lexer": "ipython3",
   "version": "3.9.12"
  }
 },
 "nbformat": 4,
 "nbformat_minor": 5
}
